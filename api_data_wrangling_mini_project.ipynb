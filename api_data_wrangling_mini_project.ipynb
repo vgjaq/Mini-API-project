{
 "cells": [
  {
   "cell_type": "markdown",
   "metadata": {},
   "source": [
    "This exercise will require you to pull some data from the Qunadl API. Qaundl is currently the most widely used aggregator of financial market data."
   ]
  },
  {
   "cell_type": "markdown",
   "metadata": {},
   "source": [
    "As a first step, you will need to register a free account on the http://www.quandl.com website."
   ]
  },
  {
   "cell_type": "markdown",
   "metadata": {},
   "source": [
    "After you register, you will be provided with a unique API key, that you should store:"
   ]
  },
  {
   "cell_type": "code",
   "execution_count": 4,
   "metadata": {},
   "outputs": [],
   "source": [
    "# Store the API key as a string - according to PEP8, constants are always named in all upper case\n",
    "API_KEY = "
   ]
  },
  {
   "cell_type": "markdown",
   "metadata": {},
   "source": [
    "Qaundl has a large number of data sources, but, unfortunately, most of them require a Premium subscription. Still, there are also a good number of free datasets."
   ]
  },
  {
   "cell_type": "markdown",
   "metadata": {},
   "source": [
    "For this mini project, we will focus on equities data from the Frankfurt Stock Exhange (FSE), which is available for free. We'll try and analyze the stock prices of a company called Carl Zeiss Meditec, which manufactures tools for eye examinations, as well as medical lasers for laser eye surgery: https://www.zeiss.com/meditec/int/home.html. The company is listed under the stock ticker AFX_X."
   ]
  },
  {
   "cell_type": "markdown",
   "metadata": {},
   "source": [
    "You can find the detailed Quandl API instructions here: https://docs.quandl.com/docs/time-series"
   ]
  },
  {
   "cell_type": "markdown",
   "metadata": {},
   "source": [
    "While there is a dedicated Python package for connecting to the Quandl API, we would prefer that you use the *requests* package, which can be easily downloaded using *pip* or *conda*. You can find the documentation for the package here: http://docs.python-requests.org/en/master/ "
   ]
  },
  {
   "cell_type": "markdown",
   "metadata": {},
   "source": [
    "Finally, apart from the *requests* package, you are encouraged to not use any third party Python packages, such as *pandas*, and instead focus on what's available in the Python Standard Library (the *collections* module might come in handy: https://pymotw.com/3/collections/ ).\n",
    "Also, since you won't have access to DataFrames, you are encouraged to us Python's native data structures - preferably dictionaries, though some questions can also be answered using lists.\n",
    "You can read more on these data structures here: https://docs.python.org/3/tutorial/datastructures.html"
   ]
  },
  {
   "cell_type": "markdown",
   "metadata": {},
   "source": [
    "Keep in mind that the JSON responses you will be getting from the API map almost one-to-one to Python's dictionaries. Unfortunately, they can be very nested, so make sure you read up on indexing dictionaries in the documentation provided above."
   ]
  },
  {
   "cell_type": "code",
   "execution_count": 42,
   "metadata": {},
   "outputs": [],
   "source": [
    "# First, import the relevant modules\n",
    "import requests\n",
    "import json\n",
    "from collections import OrderedDict"
   ]
  },
  {
   "cell_type": "code",
   "execution_count": 19,
   "metadata": {},
   "outputs": [],
   "source": [
    "# Now, call the Quandl API and pull out a small sample of the data (only one day) to get a glimpse\n",
    "# into the JSON structure that will be returned\n",
    "url= 'https://www.quandl.com/api/v3/datasets/FSE/AFX_X/data.json?start_date=2017-01-01&end_date=2017-12-31api_key='\n",
    "r = requests.get(url)\n",
    "json_data = r.json()"
   ]
  },
  {
   "cell_type": "code",
   "execution_count": 6,
   "metadata": {},
   "outputs": [
    {
     "name": "stdout",
     "output_type": "stream",
     "text": [
      "dict_keys(['limit', 'transform', 'column_index', 'column_names', 'start_date', 'end_date', 'frequency', 'data', 'collapse', 'order'])\n",
      "['Date', 'Open', 'High', 'Low', 'Close', 'Change', 'Traded Volume', 'Turnover', 'Last Price of the Day', 'Daily Traded Units', 'Daily Turnover']\n",
      "['2017-12-29', 51.76, 51.94, 51.45, 51.76, None, 34640.0, 1792304.0, None, None, None]\n",
      "<class 'dict'>\n"
     ]
    }
   ],
   "source": [
    "# Inspect the JSON structure of the object you created, and take note of how nested it is,\n",
    "# as well as the overall structure\n",
    "print(json_data['dataset_data'].keys())\n",
    "print(json_data['dataset_data']['column_names'])\n",
    "print(json_data['dataset_data']['data'][0])\n",
    "print(type(json_data))"
   ]
  },
  {
   "cell_type": "markdown",
   "metadata": {},
   "source": [
    "The json data is a nested dictionary. The inner dictionary 'dataset_data' seems to have the important data and column labels. The important 'data' is a list of lists. I need to convert this into a nested dictionary and the inner dictionary needs to be zipped together with the column names. The outer dictionary will be sorted using OrderedDict with dates as keys. "
   ]
  },
  {
   "cell_type": "markdown",
   "metadata": {},
   "source": [
    "These are your tasks for this mini project:\n",
    "\n",
    "1. Collect data from the Franfurt Stock Exchange, for the ticker AFX_X, for the whole year 2017 (keep in mind that the date format is YYYY-MM-DD).\n",
    "2. Convert the returned JSON object into a Python dictionary.\n",
    "3. Calculate what the highest and lowest opening prices were for the stock in this period.\n",
    "4. What was the largest change in any one day (based on High and Low price)?\n",
    "5. What was the largest change between any two days (based on Closing Price)?\n",
    "6. What was the average daily trading volume during this year?\n",
    "7. (Optional) What was the median trading volume during this year. (Note: you may need to implement your own function for calculating the median.)"
   ]
  },
  {
   "cell_type": "code",
   "execution_count": 55,
   "metadata": {},
   "outputs": [
    {
     "name": "stdout",
     "output_type": "stream",
     "text": [
      "2017-12-29\n",
      "<class 'list'>\n",
      "{'Date': '2017-12-29', 'Open': 51.76, 'High': 51.94, 'Low': 51.45, 'Close': 51.76, 'Change': None, 'Traded Volume': 34640.0, 'Turnover': 1792304.0, 'Last Price of the Day': None, 'Daily Traded Units': None, 'Daily Turnover': None}\n"
     ]
    }
   ],
   "source": [
    "column_names = json_data['dataset_data']['column_names']\n",
    "exchange_data = json_data['dataset_data']['data']\n",
    "print(type(exchange_data))\n",
    "exchange_inner= {}\n",
    "exchange_ordered = OrderedDict()\n",
    "for data in exchange_data: # create  a nested dictionary ordered by date\n",
    "    inner = dict(zip(column_names, data))\n",
    "    exchange_ordered[inner['Date']] = inner\n",
    "print(exchange_ordered['2017-12-29'])"
   ]
  },
  {
   "cell_type": "code",
   "execution_count": 52,
   "metadata": {},
   "outputs": [
    {
     "name": "stdout",
     "output_type": "stream",
     "text": [
      "34.0 53.11\n"
     ]
    }
   ],
   "source": [
    "# Calculate what the highest and lowest opening prices were for the stock in this period.\n",
    "highest_opening= []\n",
    "for data in exchange_ordered:\n",
    "    highest_opening.append(exchange_ordered[data]['Open'])\n",
    "s_highest_opening = []\n",
    "for thing in highest_opening:\n",
    "    if thing is None:\n",
    "        continue\n",
    "    else:\n",
    "        s_highest_opening.append(thing)\n",
    "sorted_opening = sorted(s_highest_opening)\n",
    "print(sorted_opening[0], sorted_opening[-1])"
   ]
  },
  {
   "cell_type": "code",
   "execution_count": 23,
   "metadata": {},
   "outputs": [],
   "source": [
    "# What was the largest change in any one day (based on High and Low price)?\n",
    "highest_price= []\n",
    "for data in exchange_ordered:\n",
    "    highest_price.append(exchange_ordered[data]['High'])\n",
    "lowest_price= []\n",
    "for data in exchange_ordered:\n",
    "    lowest_price.append(exchange_ordered[data]['Low'])"
   ]
  },
  {
   "cell_type": "code",
   "execution_count": 26,
   "metadata": {},
   "outputs": [
    {
     "name": "stdout",
     "output_type": "stream",
     "text": [
      "2.8100000000000023\n"
     ]
    }
   ],
   "source": [
    "differences = []\n",
    "for index in range (len(highest_price)):\n",
    "    high_low_diff = highest_price[index] - lowest_price[index]\n",
    "    differences.append(high_low_diff)\n",
    "print(sorted(differences)[-1])"
   ]
  },
  {
   "cell_type": "code",
   "execution_count": 51,
   "metadata": {},
   "outputs": [
    {
     "name": "stdout",
     "output_type": "stream",
     "text": [
      "2.559999999999995\n"
     ]
    }
   ],
   "source": [
    "# What was the largest change between any two days (based on Closing Price)?\n",
    "close = []\n",
    "for data in exchange_ordered:\n",
    "    close.append(exchange_ordered[data]['Close'])\n",
    "close_diff = []   \n",
    "for index in range (len(close[:-1])):\n",
    "    daily_differences = abs(close[index + 1] - close[index])\n",
    "    close_diff.append(daily_differences)\n",
    "print(sorted(close_diff)[-1])"
   ]
  },
  {
   "cell_type": "code",
   "execution_count": 50,
   "metadata": {},
   "outputs": [
    {
     "name": "stdout",
     "output_type": "stream",
     "text": [
      "89124.33725490196\n",
      "76286.0\n"
     ]
    }
   ],
   "source": [
    "# What was the average daily trading volume during this year?\n",
    "# (Optional) What was the median trading volume during this year. (Note: you may need to implement your own function for calculating the median.)\n",
    "trade_volume= []\n",
    "for data in exchange_ordered:\n",
    "    trade_volume.append(exchange_ordered[data]['Traded Volume'])\n",
    "print(sum(trade_volume)/len(trade_volume))\n",
    "def median(lst): # from stackoverflow\n",
    "    sortedLst = sorted(lst)\n",
    "    lstLen = len(lst)\n",
    "    index = (lstLen - 1) // 2\n",
    "   \n",
    "    if (lstLen % 2):\n",
    "        return sortedLst[index]\n",
    "    else:\n",
    "        return (sortedLst[index] + sortedLst[index + 1])/2.0\n",
    "print(median(trade_volume))"
   ]
  }
 ],
 "metadata": {
  "kernelspec": {
   "display_name": "Python 3",
   "language": "python",
   "name": "python3"
  },
  "language_info": {
   "codemirror_mode": {
    "name": "ipython",
    "version": 3
   },
   "file_extension": ".py",
   "mimetype": "text/x-python",
   "name": "python",
   "nbconvert_exporter": "python",
   "pygments_lexer": "ipython3",
   "version": "3.8.5"
  }
 },
 "nbformat": 4,
 "nbformat_minor": 4
}
